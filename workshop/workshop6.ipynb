{
 "cells": [
  {
   "cell_type": "code",
   "execution_count": null,
   "metadata": {},
   "outputs": [],
   "source": [
    "def my_sqrt(n):\n",
    "    # 루트 n은 무조건 1보다 크고 n보다 작음\n",
    "    left = 1\n",
    "    right = n\n",
    "    \n",
    "    answer = 0\n",
    "    \n",
    "    while abs(answer**2 - n) > 0.00001:\n",
    "        \n",
    "        answer = (left+right)/2\n",
    "        if answer**2 < n:\n",
    "            left = answer\n",
    "        else:\n",
    "            right = answer\n",
    "    return answer\n",
    "\n",
    "my_sqrt(5)"
   ]
  }
 ],
 "metadata": {
  "kernelspec": {
   "display_name": "Python 3",
   "language": "python",
   "name": "python3"
  },
  "language_info": {
   "codemirror_mode": {
    "name": "ipython",
    "version": 3
   },
   "file_extension": ".py",
   "mimetype": "text/x-python",
   "name": "python",
   "nbconvert_exporter": "python",
   "pygments_lexer": "ipython3",
   "version": "3.6.7"
  }
 },
 "nbformat": 4,
 "nbformat_minor": 2
}
